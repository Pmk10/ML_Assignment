{
 "cells": [
  {
   "cell_type": "code",
   "execution_count": 2,
   "metadata": {},
   "outputs": [
    {
     "name": "stdout",
     "output_type": "stream",
     "text": [
      "File saved in directory Users/karthikeyanm/Documents/myassignment/papa-what-is-a-neural-network-c5e5cc427c7.txt\n"
     ]
    }
   ],
   "source": [
    "import os\n",
    "import requests\n",
    "import re\n",
    "import sys\n",
    "from bs4 import BeautifulSoup\n",
    "\n",
    "# Function to get the HTML source text of the Medium article\n",
    "def get_page():\n",
    "    global url\n",
    "    url = input(\"Enter the URL of a Medium article: \")\n",
    "\n",
    "    if not re.match(r'https?://medium.com/', url):\n",
    "        print('Please enter a valid website, or make sure it is a medium article')\n",
    "        sys.exit(1)\n",
    "\n",
    "    res = requests.get(url)\n",
    "    res.raise_for_status()\n",
    "    soup = BeautifulSoup(res.text, 'html.parser')\n",
    "    return soup\n",
    "\n",
    "# Function to remove HTML tags and replace some with specific strings\n",
    "def clean(text):\n",
    "    rep = {\"<br>\": \"\\n\", \"<br/>\": \"\\n\", \"<li>\": \"\\n\"}\n",
    "    rep = dict((re.escape(k), v) for k, v in rep)\n",
    "    pattern = re.compile(\"|\".join(rep.keys()))\n",
    "    text = pattern.sub(lambda m: rep[re.escape(m.group(0))], text)\n",
    "    text = re.sub('<(.*?)>', '', text)\n",
    "    return text\n",
    "\n",
    "# Function to collect text from the article\n",
    "def collect_text(soup):\n",
    "    text = f'url: {url}\\n\\n'\n",
    "    para_text = soup.find_all('p')\n",
    "    for para in para_text:\n",
    "        text += f\"{para.get_text()}\\n\\n\"  # Use .get_text() to get only the text inside <p> tags\n",
    "    return text\n",
    "\n",
    "# Function to save the text to a file in the current directory\n",
    "\n",
    "save_dir = 'Users/karthikeyanm/Documents/myassignment'\n",
    "\n",
    "def save_file(text):\n",
    "    if not os.path.exists(save_dir):\n",
    "        os.makedirs(save_dir)  # Create the directory if it doesn't exist\n",
    "    name = url.split(\"/\")[-1]\n",
    "    fname = os.path.join(save_dir, f'{name}.txt')\n",
    "\n",
    "    with open(fname, 'w', encoding='utf-8') as file:\n",
    "        file.write(text)\n",
    "\n",
    "    print(f'File saved in directory {fname}')\n",
    "\n",
    "if __name__ == '__main__':\n",
    "    text = collect_text(get_page())\n",
    "    save_file(text)"
   ]
  }
 ],
 "metadata": {
  "kernelspec": {
   "display_name": "Python 3",
   "language": "python",
   "name": "python3"
  },
  "language_info": {
   "codemirror_mode": {
    "name": "ipython",
    "version": 3
   },
   "file_extension": ".py",
   "mimetype": "text/x-python",
   "name": "python",
   "nbconvert_exporter": "python",
   "pygments_lexer": "ipython3",
   "version": "3.11.5"
  },
  "orig_nbformat": 4
 },
 "nbformat": 4,
 "nbformat_minor": 2
}
